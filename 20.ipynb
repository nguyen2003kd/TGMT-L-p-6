{
 "cells": [
  {
   "cell_type": "code",
   "execution_count": 7,
   "metadata": {},
   "outputs": [],
   "source": [
    "import cv2\n",
    "import numpy as np"
   ]
  },
  {
   "cell_type": "code",
   "execution_count": 8,
   "metadata": {},
   "outputs": [],
   "source": [
    "def display(title, img):\n",
    "    cv2.imshow(title, img)\n",
    "    # Chờ một khoảng thời gian\n",
    "    cv2.waitKey(0)\n",
    "    # Đóng window\n",
    "    cv2.destroyWindow(title)"
   ]
  },
  {
   "cell_type": "code",
   "execution_count": 11,
   "metadata": {},
   "outputs": [],
   "source": [
    "height, width = 400, 600  # Điều chỉnh kích thước cờ\n",
    "img = np.zeros((height, width, 3), dtype=np.uint8)\n",
    "img[:] = (0, 0, 255)  # Màu đỏ (B, G, R)\n",
    "\n",
    "# Vẽ ngôi sao vàng 5 cánh\n",
    "def draw_star(img, center_x, center_y, radius, points, color):\n",
    "    # Tính toán các đỉnh của ngôi sao\n",
    "    angles = np.linspace(0, 2 * np.pi, points * 2, endpoint=False)\n",
    "    angles = np.concatenate((angles[::2], angles[1::2]))\n",
    "    x = center_x + radius * np.cos(angles)\n",
    "    y = center_y + radius * np.sin(angles)\n",
    "\n",
    "    # Vẽ các cạnh của ngôi sao\n",
    "    pts = np.array([x, y]).T.astype(int)\n",
    "    cv2.fillPoly(img, [pts], color)\n",
    "\n",
    "# Gọi hàm vẽ ngôi sao\n",
    "center_x = width // 2\n",
    "center_y = height // 2\n",
    "radius = 100\n",
    "points = 5\n",
    "color = (255, 255, 0)  # Màu vàng (B, G, R)\n",
    "draw_star(img, center_x, center_y, radius, points, color)\n",
    "\n",
    "# Hiển thị ảnh\n",
    "cv2.imshow('Cờ đỏ sao vàng', img)\n",
    "cv2.waitKey(0)\n",
    "cv2.destroyAllWindows()"
   ]
  },
  {
   "cell_type": "code",
   "execution_count": null,
   "metadata": {},
   "outputs": [],
   "source": []
  }
 ],
 "metadata": {
  "kernelspec": {
   "display_name": "Python 3",
   "language": "python",
   "name": "python3"
  },
  "language_info": {
   "codemirror_mode": {
    "name": "ipython",
    "version": 3
   },
   "file_extension": ".py",
   "mimetype": "text/x-python",
   "name": "python",
   "nbconvert_exporter": "python",
   "pygments_lexer": "ipython3",
   "version": "3.13.0"
  }
 },
 "nbformat": 4,
 "nbformat_minor": 2
}
